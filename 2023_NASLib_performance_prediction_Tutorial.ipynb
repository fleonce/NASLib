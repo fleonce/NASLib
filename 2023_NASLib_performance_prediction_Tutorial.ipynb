{
  "cells": [
    {
      "cell_type": "markdown",
      "metadata": {
        "id": "cNilnGngasuy"
      },
      "source": [
        "# NASLib Hands-On 2023\n",
        "\n",
        "## Welcome to the [NASLib](https://github.com/automl/NASLib) tutorial on performance prediction\n",
        "\n",
        "This notebook is part of the **NASLib Hands-On Session** for the [3rd AutoML Fall school](https://sites.google.com/view/automl-fall-school-2023). Before you start, please copy this notebook to your Google drive (`File` ➡ `Save a Copy in Drive`).\n",
        "\n",
        "This Colab Notebook can be run without GPUs/TPUs, so you may choose \"None\" as the Hardware accelerator in `Runtime` ➡ `Change runtime type`\n",
        "\n",
        "\n",
        "## NASLib Hands-On 2022\n",
        "This tutorial is a sequel to the great tutorial by Arjun Krishnakumar and Rhea Sukthanker from [last year](https://sites.google.com/view/automl-fall-school-2022/schedule/hands-on-naslib). The focus was more on black-box optimization and search methods. You can find the previous notebook [here](https://colab.research.google.com/drive/1uEm5nw0wmAIWP97YzPloTKZA5DJXActL?usp=sharing)"
      ]
    },
    {
      "cell_type": "markdown",
      "metadata": {
        "id": "x8sT_Y2t3iVx"
      },
      "source": [
        "# NASLib overview\n",
        "NASLib is a modular and flexible framework created with the aim of providing a common codebase to the community to facilitate research on Neural Architecture Search (NAS). It offers high-level abstractions for designing and reusing search spaces, interfaces to benchmarks and evaluation pipelines, enabling the implementation and extension of several NAS methods with a few lines of code.\n",
        "\n",
        "![](https://raw.githubusercontent.com/automl/NASLib/Develop_copy/images/naslib-overall.png)"
      ]
    },
    {
      "cell_type": "markdown",
      "metadata": {
        "id": "Cj8ylWVm3Nic"
      },
      "source": [
        "This tutorial will focus on Neural Architecture Search and how NASLib can be leveraged to simplify it greatly.\n",
        "\n",
        "The tutorial is divided into 4 sections:\n",
        "1. [Setting up NASLib](#setup)\n",
        "2. [Search Spaces in NASLib](#search_spaces)\n",
        "3. [Performance Prediction with zero cost proxies](#perfpred)\n",
        "4. [Extensions of 3. - robustness, a new proxy](#exte)\n",
        "5. [Transfer between performance prediction tasks](#transfer)\n",
        "\n",
        "For each of the tasks in the tutorial, your code should go inside the following block:\n",
        "```\n",
        "########## START TODO ############\n",
        "\n",
        "\n",
        "########## END TODO ##############\n",
        "```\n",
        "\n"
      ]
    },
    {
      "cell_type": "markdown",
      "metadata": {
        "id": "9x1lsktRjFR9"
      },
      "source": [
        "<a name=\"setup\"></a>\n",
        "# 1. Setting Up NASLib 💻\n",
        "\n",
        "We begin by setting up NASLib. First we, clone the repository and install NASLib."
      ]
    },
    {
      "cell_type": "code",
      "execution_count": null,
      "metadata": {
        "id": "xlYZGxcOjMTN"
      },
      "outputs": [],
      "source": [
        "# Setup NASLib\n",
        "%cd /content\n",
        "%rm -rf NASLib\n",
        "# The only difference between this NASLib fork and the current version is that\n",
        "# it supports python3.10 - the current default in Colab (downgrade is not easily possible)\n",
        "!git clone -b automl-fallschool-2023 https://github.com/gabikadlecova/NASLib/\n",
        "%cd /content/NASLib\n",
        "%cd NASLib\n",
        "%pip install -e . --quiet\n",
        "%pip install ConfigSpace==0.6 --quiet"
      ]
    },
    {
      "cell_type": "markdown",
      "metadata": {
        "id": "2UEsFrMEtUrJ"
      },
      "source": [
        "You can ignore the pip errors relating to `lida` and `bigframes` as we don't use them today.\n",
        "\n",
        "Run the next cell to see if NASLib has been successfully installed."
      ]
    },
    {
      "cell_type": "code",
      "execution_count": null,
      "metadata": {
        "id": "1l1Vi8dotQBF"
      },
      "outputs": [],
      "source": [
        "import naslib"
      ]
    },
    {
      "cell_type": "markdown",
      "source": [
        "----------------\n",
        "*Alternatively, you can also run the notebook locally, to do that:*\n",
        "- download the notebook\n",
        "- create and activate a virtual environment\n",
        "- clone NASLib and run the two bottom pip installs in the cell above\n",
        "- cd NASLib\n",
        "- run the download scripts below\n",
        "- do the annoying [ipykernel](https://www.geeksforgeeks.org/using-jupyter-notebook-in-virtual-environment/) commands and start a jupyter notebook (the virtualenv must be activated)\n",
        "-----------------"
      ],
      "metadata": {
        "id": "Uvl8HfTkEbtn"
      }
    },
    {
      "cell_type": "markdown",
      "metadata": {
        "id": "qUVBPcYzr_8a"
      },
      "source": [
        "Next, we download a few datasets and benchmark files that we shall use in this notebook."
      ]
    },
    {
      "cell_type": "code",
      "execution_count": null,
      "metadata": {
        "colab": {
          "base_uri": "https://localhost:8080/"
        },
        "id": "mDUb6gJeon9n",
        "outputId": "aad620df-7682-41fd-d93a-e7b6bb257124"
      },
      "outputs": [
        {
          "output_type": "stream",
          "name": "stdout",
          "text": [
            "/content/NASLib\n",
            "dataset = cifar10\n",
            "search_space = nb201\n",
            "Downloading...\n",
            "From: https://drive.google.com/uc?id=1sh8pEhdrgZ97-VFBVL94rI36gedExVgJ\n",
            "To: /content/NASLib/naslib/data/nb201_cifar10_full_training.pickle\n",
            "100% 117M/117M [00:02<00:00, 48.2MB/s]\n",
            "dataset = cifar100\n",
            "search_space = nb201\n",
            "Downloading...\n",
            "From: https://drive.google.com/uc?id=1hV6-mCUKInIK1iqZ0jfBkcKaFmftlBtp\n",
            "To: /content/NASLib/naslib/data/nb201_cifar100_full_training.pickle\n",
            "100% 117M/117M [00:03<00:00, 35.8MB/s]\n",
            "dataset = ImageNet16-120\n",
            "search_space = nb201\n",
            "Downloading...\n",
            "From: https://drive.google.com/uc?id=1FVCn54aQwD6X6NazaIZ_yjhj47mOGdIH\n",
            "To: /content/NASLib/naslib/data/nb201_ImageNet16_full_training.pickle\n",
            "100% 117M/117M [00:02<00:00, 44.0MB/s]\n",
            "0 1qd9Fkg7MdIe3MMbHtIJC8eZ8OsWcqPYA\n",
            "Downloading...\n",
            "From: https://drive.google.com/uc?id=1qd9Fkg7MdIe3MMbHtIJC8eZ8OsWcqPYA\n",
            "To: /content/NASLib/naslib/data/ImageNet16-120/train_data_batch_1\n",
            "100% 98.8M/98.8M [00:01<00:00, 91.2MB/s]\n",
            "1 train_data_batch_1\n",
            "Downloading...\n",
            "From: https://drive.google.com/uc?id=1LQNICeSrwwE2KdDxc9Z9FXmi7N4HKUsA\n",
            "To: /content/NASLib/naslib/data/ImageNet16-120/val_data\n",
            "100% 38.5M/38.5M [00:00<00:00, 199MB/s]\n",
            "dataset = cifar10\n",
            "search_space = nb301\n",
            "Downloading...\n",
            "From: https://drive.google.com/uc?id=1YJ80Twt9g8Gaf8mMgzK-f5hWaVFPlECF\n",
            "To: /content/NASLib/naslib/data/nb301_full_training.pickle\n",
            "100% 22.3M/22.3M [00:00<00:00, 71.8MB/s]\n",
            "search_space = nb101\n",
            "Downloading...\n",
            "From: https://drive.google.com/uc?id=1uT3tuIDMVaB4U1N8l9imEYHWPOLls3FD\n",
            "To: /content/NASLib/naslib/data/zc_nasbench101.json\n",
            "100% 10.6M/10.6M [00:00<00:00, 125MB/s]\n",
            "search_space = nb201\n",
            "Downloading...\n",
            "From: https://drive.google.com/uc?id=1k2EUtVJ4JqoJCnuyJEVgZs6vAmbg6XVB\n",
            "To: /content/NASLib/naslib/data/zc_nasbench201.json\n",
            "100% 44.3M/44.3M [00:00<00:00, 109MB/s]\n",
            "search_space = nb301\n",
            "Downloading...\n",
            "From: https://drive.google.com/uc?id=11kIyLr7LwFB_fXGDk3ic5yjiYMY5JLXG\n",
            "To: /content/NASLib/naslib/data/zc_nasbench301.json\n",
            "100% 12.4M/12.4M [00:00<00:00, 118MB/s]\n"
          ]
        }
      ],
      "source": [
        "# Download benchmarks\n",
        "%cd /content/NASLib\n",
        "!source scripts/bash_scripts/download_benchmarks.sh nb201 cifar10\n",
        "!source scripts/bash_scripts/download_benchmarks.sh nb201 cifar100\n",
        "!source scripts/bash_scripts/download_benchmarks.sh nb201 ImageNet16-120\n",
        "!source scripts/bash_scripts/download_benchmarks.sh nb301 cifar10\n",
        "!source scripts/zc/bash_scripts/download_nbs_zero.sh nb101\n",
        "!source scripts/zc/bash_scripts/download_nbs_zero.sh nb201\n",
        "!source scripts/zc/bash_scripts/download_nbs_zero.sh nb301"
      ]
    },
    {
      "cell_type": "markdown",
      "metadata": {
        "id": "4lrHRhYWhG_R"
      },
      "source": [
        "If you were able to download the benchmarks successfully, you can skip to Section 2: Search Spaces in NASLib\n",
        "\n",
        "If you are unable to download the benchmarks by running the cell above, the alternative solution is to load the data onto your Google Drive, mount your Google drive, and copy the contents to your `/contents/NASLib/naslib/data` folder.\n",
        "\n",
        "Follow these steps:\n",
        "1. \"Create a shortcut\" of [this shared folder](https://drive.google.com/file/d/127uqXUHk1XL4Etqf42x2nrt8lXnhJb56/view?usp=sharing) on Google Drive.\n",
        "![gdrive shortcut.png](data:image/png;base64,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)\n",
        "2. Uncomment the next cell and run it to mount your drive\n",
        "3. Uncomment the cell after the next, fill it with the path to your shortcut (/content/drive/MyDrive/naslib_tutorial_data.zip by default), and run it to unzip the contents to the naslib data folder (/content/NASLib/naslib/data)\n"
      ]
    },
    {
      "cell_type": "code",
      "execution_count": null,
      "metadata": {
        "id": "8hqRGbW6lI4I"
      },
      "outputs": [],
      "source": [
        "# from google.colab import drive\n",
        "# drive.mount('/content/drive')"
      ]
    },
    {
      "cell_type": "code",
      "execution_count": null,
      "metadata": {
        "id": "Kw1hTHqElevC"
      },
      "outputs": [],
      "source": [
        "# !unzip /content/drive/MyDrive/naslib_tutorial_data.zip -d /content/NASLib/naslib"
      ]
    },
    {
      "cell_type": "markdown",
      "metadata": {
        "id": "sYzxD6H5shyc"
      },
      "source": [
        "With that, setup is complete. We can now move on to the next section."
      ]
    },
    {
      "cell_type": "markdown",
      "metadata": {
        "id": "h0DG0dOFvsSP"
      },
      "source": [
        "<a name=\"search_spaces\"></a>\n",
        "# 2. Search Spaces in NASLib 🔍\n",
        "_**Note:** this part is the same as last year to give a good introduction for people who are not familiar with NASLib API. Feel free to skip to part 3 if you know the basics._\n",
        "\n",
        "### What is NAS Search Space?\n",
        "The search space is the set of all architectures which can be obtained given constraints such as the choice of operations on each edge of the graph and network topologies. We can use knowledge about the typical properties of good architectures for a task to reduce the size of the search space. However, this also introduces a human bias, which may prevent finding\n",
        "novel architectural building blocks that go beyond the current human knowledge.\n",
        "\n",
        "Consider the [NAS-Bench-201](https://arxiv.org/pdf/2001.00326.pdf) search space , for example. This search space consists of multiple stacked cells. Each cell is a directed acyclic graph, and the operation on each edge is selected from a predefined set of possible choices.\n",
        "\n",
        "![](https://drive.google.com/uc?id=1Uw6InTaEWaE2gwgct6ztkLudEz7X3W2y)\n",
        "\n",
        "### What is a NAS Benchmark?\n",
        "A NAS benchmark consists of the true or estimated performance of architectures from a NAS Search space, each of which are evaluated on a fixed train-val-test split of the dataset and a fixed training pipeline. There are primarily two types of NAS benchmarks: *surrogate* NAS benchmarks and *tabular* NAS benchmarks.\n",
        "\n",
        "Surrogate benchmarks use a surrogate model (eg: a neural network) to **predict the performance** of an architecture from the search space. On the other hand, tabular benchmarks query the actual performance of trained models.\n",
        "\n",
        "### Why do we need NAS Benchmarks?\n",
        "\n",
        "1.   Neural Architecture Search often requires large amounts of computational resources. Evaluating a single model requires training it from scratch.\n",
        "2.   Reproducibility in NAS research: By having a fixed training and evaluation pipeline, NAS Benchmarks minimize confounding factors while comparing different NAS methods.\n",
        "\n",
        "###NASLib supports multiple search spaces and benchmarks like:\n",
        "\n",
        "1. [NAS-Bench-101](https://arxiv.org/pdf/1902.09635.pdf)\n",
        "2. [NAS-Bench-201](https://arxiv.org/pdf/2001.00326.pdf)\n",
        "3. [NAS-Bench-301](https://arxiv.org/pdf/2008.09777.pdf)\n",
        "4. [TransNAS-Bench-101](https://arxiv.org/pdf/2105.11871.pdf)\n",
        "\n",
        "### With a unified API, NASLib allows you to trivially perform several operations, such as:\n",
        "\n",
        "1. Sampling random models from the search space, which you can use as **an actual PyTorch model**\n",
        "2. Querying the Benchmark APIs of models for metrics such as training and validation accuracies\n",
        "3. Converting between different representations of a given architecture (NASLib, for example, internally represents NAS-Bench-201 architectures using an integer 6-tuple. But you can **convert that into the string representation** used by the original authors in their repositories)\n",
        "4. Mutating an architecture\n",
        "\n",
        "In the next part of the tutorial, we walk through each of these functionalities.\n",
        "\n"
      ]
    },
    {
      "cell_type": "code",
      "execution_count": null,
      "metadata": {
        "id": "38Rw8zoHobaW"
      },
      "outputs": [],
      "source": [
        "# Import the search space\n",
        "# We begin by importing only the NAS-Bench-201 Search Space\n",
        "from naslib.search_spaces import NasBench201SearchSpace"
      ]
    },
    {
      "cell_type": "code",
      "execution_count": null,
      "metadata": {
        "id": "mupGqiYP6sHj"
      },
      "outputs": [],
      "source": [
        "# Create a new search space object.\n",
        "# This object doesn't have an architecture assigned to it yet - it represents the entire search space\n",
        "graph = NasBench201SearchSpace(n_classes=10) # CIFAR-10 dataset requires 10 classes"
      ]
    },
    {
      "cell_type": "code",
      "execution_count": null,
      "metadata": {
        "colab": {
          "base_uri": "https://localhost:8080/"
        },
        "id": "A0QBgM518odz",
        "outputId": "f32d4b46-22bb-4775-f627-edc8aede665d"
      },
      "outputs": [
        {
          "output_type": "execute_result",
          "data": {
            "text/plain": [
              "(1, 0, 2, 1, 4, 2)"
            ]
          },
          "metadata": {},
          "execution_count": 6
        }
      ],
      "source": [
        "# Sample a random architecture\n",
        "# You can call this method only once on any instance\n",
        "graph.sample_random_architecture()\n",
        "\n",
        "# Parse the sampled architecture into a PyTorch model - this model can now be trained like a regular PyTorch model\n",
        "# (This step is optional because we're not training the model from scratch)\n",
        "graph.parse()\n",
        "\n",
        "# Get the NASLib representation of the sampled model\n",
        "graph.get_hash()"
      ]
    },
    {
      "cell_type": "code",
      "execution_count": null,
      "metadata": {
        "colab": {
          "base_uri": "https://localhost:8080/"
        },
        "id": "3LEgt8uD8seL",
        "outputId": "cc5983c7-ae9e-492f-e544-e36a681bdc76"
      },
      "outputs": [
        {
          "output_type": "stream",
          "name": "stdout",
          "text": [
            "Shape of the logits: torch.Size([5, 10])\n"
          ]
        }
      ],
      "source": [
        "# This graph is now a NAS-Bench-201 model, which can be trained\n",
        "# Forward pass some dummy data through it to see it in action\n",
        "\n",
        "import torch\n",
        "\n",
        "x = torch.randn(5, 3, 32, 32) # (Batch_size, Num_channels, Height, Width)\n",
        "\n",
        "logits = graph(x)\n",
        "\n",
        "print('Shape of the logits:', logits.shape)"
      ]
    },
    {
      "cell_type": "code",
      "execution_count": null,
      "metadata": {
        "colab": {
          "base_uri": "https://localhost:8080/",
          "height": 36
        },
        "id": "l6VYYjdy8v4f",
        "outputId": "59f6f9c0-6b6d-4000-a6e4-0dbf52b3b6d7"
      },
      "outputs": [
        {
          "output_type": "execute_result",
          "data": {
            "text/plain": [
              "'|none~0|+|skip_connect~0|none~1|+|nor_conv_3x3~0|avg_pool_3x3~1|nor_conv_3x3~2|'"
            ],
            "application/vnd.google.colaboratory.intrinsic+json": {
              "type": "string"
            }
          },
          "metadata": {},
          "execution_count": 8
        }
      ],
      "source": [
        "# Import code to convert NASLib graph to the original NAS-Bench-201 representation\n",
        "from naslib.search_spaces.nasbench201.conversions import convert_naslib_to_str as convert_naslib_nb201_to_str\n",
        "\n",
        "# Get the string representation of this model, that the original authors of NAS-Bench-201 used\n",
        "convert_naslib_nb201_to_str(graph)"
      ]
    },
    {
      "cell_type": "code",
      "execution_count": null,
      "metadata": {
        "colab": {
          "base_uri": "https://localhost:8080/"
        },
        "id": "pZwyk6jX8ysb",
        "outputId": "9500f587-5eab-4f0e-8781-577868e51821"
      },
      "outputs": [
        {
          "output_type": "stream",
          "name": "stdout",
          "text": [
            "Parent graph: (1, 0, 2, 1, 4, 2)\n",
            "Child graph : (1, 0, 4, 1, 4, 2)\n"
          ]
        }
      ],
      "source": [
        "# Mutating an architecture\n",
        "# First, create a new child_graph\n",
        "child_graph = NasBench201SearchSpace(n_classes=10)\n",
        "\n",
        "# Call mutate on the child graph by passing the parent graph to it\n",
        "child_graph.mutate(parent=graph)\n",
        "\n",
        "# See the parent and child graph representations. Which edge was mutated?\n",
        "print(f'Parent graph: {graph.get_hash()}')\n",
        "print(f'Child graph : {child_graph.get_hash()}')"
      ]
    },
    {
      "cell_type": "code",
      "execution_count": null,
      "metadata": {
        "id": "rLf2sPC--Glk"
      },
      "outputs": [],
      "source": [
        "# Now, let's load the queryable tabular NAS-Bench-201 API\n",
        "# This API has the training metrics of all the 15625 models in the search space\n",
        "# such as train and validation accuracies/losses at every epoch\n",
        "from naslib.utils import get_dataset_api\n",
        "#benchmark_api = get_dataset_api(search_space='nasbench201', dataset='cifar10')"
      ]
    },
    {
      "cell_type": "code",
      "execution_count": null,
      "metadata": {
        "id": "oWSG4WH75CIh",
        "colab": {
          "base_uri": "https://localhost:8080/"
        },
        "outputId": "0fe43f20-21e7-4125-9cb3-e23ba3e84114"
      },
      "outputs": [
        {
          "output_type": "stream",
          "name": "stderr",
          "text": [
            "/usr/local/lib/python3.10/dist-packages/xgboost/compat.py:31: FutureWarning: pandas.Int64Index is deprecated and will be removed from pandas in a future version. Use pandas.Index with the appropriate dtype instead.\n",
            "  from pandas import MultiIndex, Int64Index\n"
          ]
        },
        {
          "output_type": "stream",
          "name": "stdout",
          "text": [
            "Downloading models 1.0 from https://ndownloader.figshare.com/files/24992018 to /content/NASLib/naslib/data/models_1.0.zip\n"
          ]
        },
        {
          "output_type": "stream",
          "name": "stderr",
          "text": [
            "1.85GiB [01:06, 28.0MiB/s]\n"
          ]
        },
        {
          "output_type": "stream",
          "name": "stdout",
          "text": [
            "Extracting models_1.0.zip to /content/NASLib/naslib/data/nb_models_1.0\n",
            "Deleting downloaded zip at /content/NASLib/naslib/data/models_1.0.zip\n"
          ]
        }
      ],
      "source": [
        "# We now import all the benchmarks that we will require for this exercise\n",
        "# Load all benchmarks APIs just once to avoid running out of memory\n",
        "dataset_apis={}\n",
        "# dataset_apis[\"NASBench101-cifar10\"] = get_dataset_api(search_space='nasbench101', dataset='cifar10')\n",
        "dataset_apis[\"NASBench201-cifar10\"] = get_dataset_api(search_space='nasbench201', dataset='cifar10')\n",
        "#dataset_apis[\"NASBench201-cifar100\"] = get_dataset_api(search_space='nasbench201', dataset='cifar100')\n",
        "#dataset_apis[\"NASBench201-ImageNet16-120\"] = get_dataset_api(search_space='nasbench201', dataset='ImageNet16-120')\n",
        "dataset_apis[\"NASBench301-cifar10\"] = get_dataset_api(search_space='nasbench301', dataset='cifar10')"
      ]
    },
    {
      "cell_type": "code",
      "execution_count": null,
      "metadata": {
        "colab": {
          "base_uri": "https://localhost:8080/"
        },
        "id": "crouZBso95zc",
        "outputId": "528eb39e-22e8-43a9-9818-dfa34613f2e6"
      },
      "outputs": [
        {
          "output_type": "stream",
          "name": "stdout",
          "text": [
            "Performance of parent model\n",
            "Train accuracy: 99.93%\n",
            "Validation accuracy: 88.43%\n"
          ]
        }
      ],
      "source": [
        "# With the NAS-Bench-201 API, we can now query, say, the validation performance of any NB201 model\n",
        "# Without it, we would have to train the model from scratch to get this information\n",
        "\n",
        "# First, import the Metric enum\n",
        "from naslib.search_spaces.core import Metric\n",
        "\n",
        "# Metric has, among others, these values:\n",
        "# Metric.TRAIN_ACCURACY\n",
        "# Metric.VAL_ACCURACY\n",
        "# Metric.TRAIN_LOSS\n",
        "# Metric.TEST_LOSS\n",
        "# Metric.TRAIN_TIME\n",
        "\n",
        "train_acc_parent = graph.query(metric=Metric.TRAIN_ACCURACY, dataset='cifar10', dataset_api=dataset_apis[\"NASBench201-cifar10\"])\n",
        "val_acc_parent = graph.query(metric=Metric.VAL_ACCURACY, dataset='cifar10', dataset_api=dataset_apis[\"NASBench201-cifar10\"])\n",
        "\n",
        "print('Performance of parent model')\n",
        "print(f'Train accuracy: {train_acc_parent:.2f}%')\n",
        "print(f'Validation accuracy: {val_acc_parent:.2f}%')"
      ]
    },
    {
      "cell_type": "markdown",
      "metadata": {
        "id": "vCkD1qVE4KFl"
      },
      "source": [
        "## Task 1: NAS-Bench-301 (10 minutes)\n",
        "\n",
        "Now that you are familiar with the operations search spaces in NASLib, we can attempt our first task. In this task, you should do the following:\n",
        "\n",
        "1. Sample a random NAS-Bench-301 model\n",
        "2. Get the NASLib representation of the model\n",
        "3. Query the performance of the model\n",
        "4. Mutate the model\n",
        "5. Query the performance of the mutated model\n",
        "\n",
        "All the modules you require are already imported for you."
      ]
    },
    {
      "cell_type": "code",
      "execution_count": null,
      "metadata": {
        "id": "lvxWRWKU_UTd"
      },
      "outputs": [],
      "source": [
        "from naslib.search_spaces import NasBench301SearchSpace\n",
        "\n",
        "########## START TODO ############\n",
        "\n",
        "# 1. Sample a random NAS-Bench-301 (CIFAR-10) model\n",
        "# 2. Get the NASLib representation of the model\n",
        "# 3. Query the performance of the model\n",
        "# 4. Mutate the model\n",
        "# 5. Query the performance of the mutated model\n",
        "# Metrics you can query in NAS-Bench-301 (which is a surrogate benchmark) are Metric.VAL_ACCURACY and Metric.TRAIN_TIME\n",
        "\n",
        "# Write your code here\n",
        "\n",
        "########## END TODO ##############\n",
        "\n",
        "nb301_graph = NasBench301SearchSpace(n_classes=10)"
      ]
    },
    {
      "cell_type": "markdown",
      "source": [
        "<a name=\"perfpred\"></a>\n",
        "# 3. Performance prediction in NASLib\n",
        "\n",
        "## The NAS process\n",
        "\n",
        "The objective of NAS is to find a well-performing architecture for a given problem. We use the NAS optimizers - a search strategy used to explore the search space. NASLib provides a uniform API to use multiple optimizers across different benchmarks.\n",
        "\n",
        "![](https://drive.google.com/uc?id=1e7a4LI-f7embNqUq23FwlysP6mQu63nx)\n",
        "\n",
        "During search, we need to evaluate the performance of architectures, which often requires us to train a network up until convergence. Since this is a bottleneck of the process, we want to speed up the process. Commonly used speedup techniques are one-shot methods, evaluation on lower fidelities or **performance prediction**.\n",
        "\n",
        "## What is a performance predictor?\n",
        "A [performance predictor](https://arxiv.org/pdf/2104.01177.pdf) is generally defined as any function  (e.g. xgboost, graph convolutional networks) which predicts the final accuracy or ranking of architectures, without fully training the architectures.\n",
        "\n",
        "The standard approach is to fully train a small number of architectures, and then use their performance as targets for a regression task (e.g. predict network accuracy, latency, ...) or ranking task (is architecture A better than architecture B in terms of accuracy?).\n",
        "\n",
        "\n",
        "In this section of the tutorial, we will walk through the following:\n",
        "\n",
        "1. Fitting XGBoost on a simple one-hot architecture encoding\n",
        "2. Adding Zero-cost proxies as features to XGBoost\n",
        "3. Zero cost api for fast score queries"
      ],
      "metadata": {
        "id": "fWB4xUZr1wu4"
      }
    },
    {
      "cell_type": "code",
      "source": [
        "import random\n",
        "from tqdm import tqdm\n",
        "from naslib.search_spaces.core.query_metrics import Metric\n",
        "from naslib.search_spaces.nasbench201.conversions import convert_naslib_to_str\n",
        "\n",
        "\n",
        "def iterate_whole_searchspace(search_space, dataset_api, seed=None, shuffle=False):\n",
        "  # Note - for nb301, this method only returns the training set architectures\n",
        "  arch_iter = search_space.get_arch_iterator(dataset_api)\n",
        "  if shuffle:\n",
        "    arch_iter = list(arch_iter)\n",
        "    rng = random if seed is None else random.Random(seed)\n",
        "    rng.shuffle(arch_iter)\n",
        "\n",
        "  for arch_str in arch_iter:\n",
        "    yield arch_str\n",
        "\n",
        "\n",
        "def sample_arch_dataset(search_space, dataset, dataset_api, data_size=None, arch_hashes=None, seed=None, shuffle=False):\n",
        "  xdata = []\n",
        "  ydata = []\n",
        "  train_times = []\n",
        "  arch_hashes = arch_hashes if arch_hashes is not None else set()\n",
        "\n",
        "  # Cloning NASLib objects takes some time - this is a hack-... speedup so that\n",
        "  # we can quickly get all architecture hashes and accuracies in a searchspace.\n",
        "  # However, not all methods are available - e.g. you can't encode the architecture\n",
        "  search_space = search_space.clone()\n",
        "  search_space.instantiate_model = False\n",
        "  arch_iterator = iterate_whole_searchspace(search_space, dataset_api, shuffle=shuffle, seed=seed)\n",
        "\n",
        "  # iterate over architecture hashes\n",
        "  for arch in tqdm(arch_iterator):\n",
        "      if data_size is not None and len(xdata) >= data_size:\n",
        "        break\n",
        "\n",
        "      if arch in arch_hashes:\n",
        "          continue\n",
        "\n",
        "      arch_hashes.add(arch)\n",
        "      search_space.set_spec(arch)\n",
        "\n",
        "      # query metric for the current architecture hash\n",
        "      accuracy = search_space.query(metric=Metric.TRAIN_ACCURACY, dataset=dataset, dataset_api=dataset_api)\n",
        "      train_time = search_space.query(metric=Metric.TRAIN_TIME, dataset=dataset, dataset_api=dataset_api)\n",
        "\n",
        "      xdata.append(arch)\n",
        "      ydata.append(accuracy)\n",
        "      train_times.append(train_time)\n",
        "\n",
        "  return [xdata, ydata, train_times], arch_hashes"
      ],
      "metadata": {
        "id": "skHffk_Jc3Mq"
      },
      "execution_count": null,
      "outputs": []
    },
    {
      "cell_type": "code",
      "source": [
        "# The free version of Google colab has <13 GB RAM available.\n",
        "# NASLib objects tend to occupy a lot of memory, so we store string/tuple representations instead.\n",
        "# Normally, you would work directly with a list of NASLib graphs that can be easily queried and encoded.\n",
        "\n",
        "def encode_archs(search_space, arch_ops, encoding=None, verbose=True):\n",
        "  encoded = []\n",
        "\n",
        "  for arch_str in tqdm(arch_ops, disable=not verbose):\n",
        "    arch = search_space.clone()\n",
        "    arch.set_spec(arch_str)\n",
        "\n",
        "    arch = arch.encode(encoding) if encoding is not None else arch\n",
        "    encoded.append(arch)\n",
        "\n",
        "  return encoded"
      ],
      "metadata": {
        "id": "eqiFAn7o49kT"
      },
      "execution_count": null,
      "outputs": []
    },
    {
      "cell_type": "code",
      "source": [
        "# NAS-Bench-201 graphs can be represented as a tuple of integers - every position corresponds to one of the edges\n",
        "# 0 - skip-connection, 1 - zero, 2 - conv3x3, 3 - conv1x1, 4 - avg pooling\n",
        "# Edges: [(1,2), (1,3), (1,4), (2,3), (2,4), (1,4)] ... (node_from, node_to)\n",
        "i = 0\n",
        "for a in iterate_whole_searchspace(NasBench201SearchSpace(), dataset_apis['NASBench201-cifar10'], shuffle=False, seed=42):\n",
        "  print(a)\n",
        "  i += 1\n",
        "  if i > 5:\n",
        "    break"
      ],
      "metadata": {
        "id": "KUIVoVUsc3P7",
        "colab": {
          "base_uri": "https://localhost:8080/"
        },
        "outputId": "40539d6a-d565-46ce-f720-a7775025c2f3"
      },
      "execution_count": null,
      "outputs": [
        {
          "output_type": "stream",
          "name": "stdout",
          "text": [
            "(0, 0, 0, 0, 0, 0)\n",
            "(0, 0, 0, 0, 0, 1)\n",
            "(0, 0, 0, 0, 0, 2)\n",
            "(0, 0, 0, 0, 0, 3)\n",
            "(0, 0, 0, 0, 0, 4)\n",
            "(0, 0, 0, 0, 1, 0)\n"
          ]
        }
      ]
    },
    {
      "cell_type": "markdown",
      "source": [
        "## XGBoost performance prediction"
      ],
      "metadata": {
        "id": "5n2tbuwiXZaK"
      }
    },
    {
      "cell_type": "code",
      "source": [
        "from naslib.utils.encodings import EncodingType\n",
        "\n",
        "seed = 2\n",
        "pred_dataset = 'cifar10'\n",
        "pred_api = dataset_apis['NASBench201-cifar10']\n",
        "train_size = 100\n",
        "test_size = 100\n",
        "\n",
        "train_sample, train_hashes = sample_arch_dataset(NasBench201SearchSpace(), pred_dataset, pred_api, data_size=train_size, shuffle=True, seed=seed)\n",
        "test_sample, _ = sample_arch_dataset(NasBench201SearchSpace(), pred_dataset, pred_api, arch_hashes=train_hashes, data_size=test_size, shuffle=True, seed=seed + 1)"
      ],
      "metadata": {
        "colab": {
          "base_uri": "https://localhost:8080/"
        },
        "id": "-yozVNO46ruQ",
        "outputId": "46dba957-19dd-4624-8760-6d60b542f84c"
      },
      "execution_count": null,
      "outputs": [
        {
          "output_type": "stream",
          "name": "stderr",
          "text": [
            "100it [00:00, 2975.49it/s]\n",
            "100it [00:00, 5635.84it/s]\n"
          ]
        }
      ]
    },
    {
      "cell_type": "code",
      "source": [
        "xtrain, ytrain, _ = train_sample\n",
        "xtest, ytest, _ = test_sample"
      ],
      "metadata": {
        "id": "N6Oz5FGsb7sS"
      },
      "execution_count": null,
      "outputs": []
    },
    {
      "cell_type": "markdown",
      "source": [
        "Before fitting a performance predictor, we need to encode the architecture to a representation that models can easily learn. The simplest encoding is onehot representation of operations concatenated with a flattened adjacency matrix.\n",
        "\n",
        "For NB201 models, the adjacency matrix is always the same and only the operation encoding changes."
      ],
      "metadata": {
        "id": "yy81gC0njAm8"
      }
    },
    {
      "cell_type": "code",
      "source": [
        "enc_type = EncodingType.ADJACENCY_ONE_HOT\n",
        "\n",
        "enc_train = encode_archs(NasBench201SearchSpace(), xtrain, encoding=enc_type)\n",
        "enc_test = encode_archs(NasBench201SearchSpace(), xtest, encoding=enc_type)"
      ],
      "metadata": {
        "colab": {
          "base_uri": "https://localhost:8080/"
        },
        "id": "algepMKlePcF",
        "outputId": "d8fe6e1c-e845-4519-b183-8d4dd1c3abd3"
      },
      "execution_count": null,
      "outputs": [
        {
          "output_type": "stream",
          "name": "stderr",
          "text": [
            "100%|██████████| 100/100 [00:54<00:00,  1.85it/s]\n",
            "100%|██████████| 100/100 [01:05<00:00,  1.53it/s]\n"
          ]
        }
      ]
    },
    {
      "cell_type": "code",
      "source": [
        "print(xtrain[0])\n",
        "str(enc_train[0])"
      ],
      "metadata": {
        "colab": {
          "base_uri": "https://localhost:8080/",
          "height": 53
        },
        "id": "mppNKzu7h4m9",
        "outputId": "d732f4b5-8681-42fb-fb5e-32f98d1832c8"
      },
      "execution_count": null,
      "outputs": [
        {
          "output_type": "stream",
          "name": "stdout",
          "text": [
            "(1, 3, 3, 0, 2, 0)\n"
          ]
        },
        {
          "output_type": "execute_result",
          "data": {
            "text/plain": [
              "'[0, 1, 0, 0, 0, 0, 0, 0, 1, 0, 0, 0, 0, 1, 0, 1, 0, 0, 0, 0, 0, 0, 1, 0, 0, 1, 0, 0, 0, 0]'"
            ],
            "application/vnd.google.colaboratory.intrinsic+json": {
              "type": "string"
            }
          },
          "metadata": {},
          "execution_count": 21
        }
      ]
    },
    {
      "cell_type": "markdown",
      "source": [
        "NASLib implements several [performance predictors](https://github.com/automl/NASLib/tree/Develop/naslib/predictors), ranging from simple models like Random forest or XGBoost to predictors based on graph neural networks.\n",
        "All predictors use the same fit-query api and allow using additional information, such as zero cost proxies or unlabeled data for semi-supervised predictors. This enables us to [fairly evaluate](https://openreview.net/forum?id=6RB77-6-_oI) different predictors on available search spaces.\n",
        "\n",
        "In this notebook, we will use XGBoost, as it can easily combine zero cost proxies and architecture encoding."
      ],
      "metadata": {
        "id": "q5X1a8Uhj0t6"
      }
    },
    {
      "cell_type": "code",
      "source": [
        "from naslib.predictors.trees.xgb import XGBoost\n",
        "\n",
        "model = XGBoost()\n",
        "model.fit(enc_train, ytrain)\n",
        "res = model.query(enc_test)"
      ],
      "metadata": {
        "id": "K5Gaq_qgAeDf"
      },
      "execution_count": null,
      "outputs": []
    },
    {
      "cell_type": "markdown",
      "source": [
        "Although performance prediction is often handled as a regression task, correct predicted ranking of architectures is usually more important - during black-box optimization in NAS, we select the best performing networks regardless of their actual performance.\n",
        "\n",
        "To evaluate performance predictors, we use rank-based metrics\n",
        "like Kendall tau (measures if pairs of architectures are ordered correctly)\n",
        "or Spearman's rank correlation.\n"
      ],
      "metadata": {
        "id": "7yv9jYqfmEhT"
      }
    },
    {
      "cell_type": "code",
      "source": [
        "import seaborn as sns\n",
        "import matplotlib.pyplot as plt\n",
        "from naslib.utils import compute_scores  # computes more metrics than just correlation\n",
        "from scipy.stats import kendalltau, spearmanr\n",
        "sns.set()\n",
        "\n",
        "\n",
        "def evaluate_predictions(y_true, y_pred, plot=False, plot_func=None, title=None):\n",
        "  res = {}\n",
        "  res['kendalltau'] = kendalltau(y_true, y_pred)[0]\n",
        "  res['spearmanr'] = spearmanr(y_true, y_pred)[0]\n",
        "\n",
        "  if plot:\n",
        "    plt.figure()\n",
        "    plt.scatter(y_true, y_pred, marker='.')\n",
        "\n",
        "    # additional graph aesthetics\n",
        "    if plot_func is not None:\n",
        "      plot_func(res)\n",
        "\n",
        "    tautitle = f\"tau: {res['kendalltau'].round(2)}\"\n",
        "    if title is not None:\n",
        "      plt.title(title + f\" - {tautitle}\")\n",
        "    else:\n",
        "      plt.title(tautitle)\n",
        "\n",
        "    plt.show()\n",
        "\n",
        "  return res"
      ],
      "metadata": {
        "id": "eibkSGy1f3FT"
      },
      "execution_count": null,
      "outputs": []
    },
    {
      "cell_type": "code",
      "source": [
        "metrics = evaluate_predictions(ytest, res, plot=True, title=\"XGBoost prediction on onehot NB201\")\n",
        "print(\"\\n\", metrics)"
      ],
      "metadata": {
        "colab": {
          "base_uri": "https://localhost:8080/",
          "height": 492
        },
        "id": "f9QP9avSk9pf",
        "outputId": "64e2f109-3066-4cf8-845b-a45b4c355cac"
      },
      "execution_count": null,
      "outputs": [
        {
          "output_type": "display_data",
          "data": {
            "text/plain": [
              "<Figure size 640x480 with 1 Axes>"
            ],
            "image/png": "[encoded data removed]"
          },
          "metadata": {}
        },
        {
          "output_type": "stream",
          "name": "stdout",
          "text": [
            "\n",
            " {'kendalltau': 0.4196148187047212, 'spearmanr': 0.5923254246600577}\n"
          ]
        }
      ]
    },
    {
      "cell_type": "markdown",
      "source": [
        "Save all metrics across experiments in the following dict:"
      ],
      "metadata": {
        "id": "E1Z4nr58y3DX"
      }
    },
    {
      "cell_type": "code",
      "source": [
        "expe_metrics = {}\n",
        "expe_metrics['XGBoost_onehot'] = metrics"
      ],
      "metadata": {
        "id": "bVQacGRVy2hB"
      },
      "execution_count": null,
      "outputs": []
    },
    {
      "cell_type": "markdown",
      "metadata": {
        "id": "ZHe1D65nb-hm"
      },
      "source": [
        "<a name=\"zcps\"></a>\n",
        "## Zero Cost Proxies\n",
        "\n",
        "Zero Cost proxies allow us to *rank* models using only a single forward and backward pass of a minibatch of data. They require much less time and compute to score models - most proxies take a few seconds to compute (~2 seconds on cifar10).\n",
        "As so, they can be used as a cheap *proxy* to **speed up black-box optimizers**. Additionally, they can be used as architectural features that enable transfer across different search spaces, as they **don't depend on architectural encoding**.\n",
        "\n",
        "The main disadvantage of proxies is that their performance is not consistent - a proxy with a great correlation on a given search space and dataset may perform poorly on a different searchspace and dataset. Notably, all proxies except `flops` and `params` have low scores on most DARTS problems. A possible solution would be to use combinations of proxies or to determine what proxies work for which tasks.\n",
        "You can learn more about this problem [here](https://iclr-blog-track.github.io/2022/03/25/zero-cost-proxies/).\n",
        "\n",
        "In this section, we look how we can use the Zero Cost proxies available in NASLib ( Table 1, [NAS-Bench-Suite-Zero:\n",
        "Accelerating Research on Zero Cost Proxies](https://arxiv.org/pdf/2210.03230.pdf)) to *score* a model. Intuitively, the higher the score of a model, the better we expect the model to perform (this isn't always true, though - there are cases where the scores are anti-correlated with the validation performance).\n",
        "\n",
        "Then, we will use the proxies directly in performance prediction as additional features."
      ]
    },
    {
      "cell_type": "code",
      "execution_count": null,
      "metadata": {
        "id": "Cb2rVYbUi56w"
      },
      "outputs": [],
      "source": [
        "# Imports used throughout this section\n",
        "from naslib.predictors import ZeroCost\n",
        "from naslib.search_spaces import NasBench201SearchSpace\n",
        "from naslib.utils import get_train_val_loaders, get_project_root\n",
        "from fvcore.common.config import CfgNode\n",
        "from tqdm import tqdm"
      ]
    },
    {
      "cell_type": "code",
      "execution_count": null,
      "metadata": {
        "colab": {
          "base_uri": "https://localhost:8080/"
        },
        "id": "48bzvH8GGhUZ",
        "outputId": "c7a9f7a5-4514-4424-e2f7-b0fd1d1f2f65"
      },
      "outputs": [
        {
          "output_type": "stream",
          "name": "stdout",
          "text": [
            "Downloading https://www.cs.toronto.edu/~kriz/cifar-10-python.tar.gz to /content/NASLib/naslib/data/cifar-10-python.tar.gz\n"
          ]
        },
        {
          "output_type": "stream",
          "name": "stderr",
          "text": [
            "100%|██████████| 170498071/170498071 [00:05<00:00, 31256782.61it/s]\n"
          ]
        },
        {
          "output_type": "stream",
          "name": "stdout",
          "text": [
            "Extracting /content/NASLib/naslib/data/cifar-10-python.tar.gz to /content/NASLib/naslib/data\n",
            "Files already downloaded and verified\n",
            "Score of model for Zero Cost predictor plain: 0.06469706445932388\n"
          ]
        }
      ],
      "source": [
        "# Create configs required for get_train_val_loaders\n",
        "config_dict = {\n",
        "    'dataset': 'cifar10', # Dataset to loader: can be cifar10, cifar100, ImageNet16-120\n",
        "    'data': str(get_project_root()) + '/data', # path to naslib/data where cifar is saved\n",
        "    'search': {\n",
        "        'seed': 9001, # Seed to use in the train, validation and test dataloaders\n",
        "        'train_portion': 0.7, # Portion of train dataset to use as train dataset. The rest is used as validation dataset.\n",
        "        'batch_size': 32, # batch size of the dataloaders\n",
        "    }\n",
        "}\n",
        "config = CfgNode(config_dict)\n",
        "\n",
        "# Get the dataloaders\n",
        "train_loader, val_loader, test_loader, train_transform, valid_transform = get_train_val_loaders(config)\n",
        "\n",
        "# Sample a random NB201 graph and instantiate it\n",
        "graph = NasBench201SearchSpace()\n",
        "graph.sample_random_architecture()\n",
        "graph.parse()\n",
        "\n",
        "# Instantiate the ZeroCost predictor\n",
        "# The Zero Cost predictors can be any of the following:\n",
        "# {'epe_nas', 'fisher', 'grad_norm', 'grasp', 'jacov', 'l2_norm', 'nwot', 'plain', 'snip', 'synflow', 'zen', 'flops', 'params'}\n",
        "\n",
        "zc_proxy = 'plain'\n",
        "zc_predictor = ZeroCost(method_type=zc_proxy)\n",
        "score = zc_predictor.query(graph=graph, dataloader=train_loader)\n",
        "\n",
        "print(f'Score of model for Zero Cost predictor {zc_proxy}: {score}')\n"
      ]
    },
    {
      "cell_type": "markdown",
      "metadata": {
        "id": "6FhPnsO7yUpA"
      },
      "source": [
        "Let's now try scoring the same model with all the Zero Cost proxies. Remember that it only makes sense to make comparisons between the scores of different models of a given proxy."
      ]
    },
    {
      "cell_type": "code",
      "execution_count": null,
      "metadata": {
        "colab": {
          "base_uri": "https://localhost:8080/"
        },
        "id": "6VnXFul5O2M9",
        "outputId": "dd33214d-175d-4410-811a-13bb7d2efa13"
      },
      "outputs": [
        {
          "output_type": "stream",
          "name": "stdout",
          "text": [
            "Scores of the model\n",
            "epe_nas: 160.043414\n"
          ]
        },
        {
          "output_type": "stream",
          "name": "stderr",
          "text": [
            "/usr/local/lib/python3.10/dist-packages/torch/nn/modules/module.py:1359: UserWarning: Using a non-full backward hook when the forward contains multiple autograd Nodes is deprecated and will be removed in future versions. This hook will be missing some grad_input. Please use register_full_backward_hook to get the documented behavior.\n",
            "  warnings.warn(\"Using a non-full backward hook when the forward contains multiple autograd Nodes \"\n"
          ]
        },
        {
          "output_type": "stream",
          "name": "stdout",
          "text": [
            "fisher: 0.015672\n",
            "grad_norm: 5.130321\n",
            "grasp: -0.968150\n",
            "jacov: -643.448648\n",
            "l2_norm: 78.745659\n",
            "nwot: 308.941681\n",
            "plain: 0.104056\n",
            "snip: 7.367403\n",
            "synflow: 25.189593\n",
            "zen: 24.938808\n",
            "flops: 14.886592\n",
            "params: 0.101306\n"
          ]
        }
      ],
      "source": [
        "# Instantiate the ZeroCost predictor\n",
        "# The Zero Cost predictors can be any of the following:\n",
        "zc_proxies = ['epe_nas', 'fisher', 'grad_norm', 'grasp', 'jacov', 'l2_norm', 'nwot', 'plain', 'snip', 'synflow', 'zen', 'flops', 'params']\n",
        "\n",
        "print('Scores of the model')\n",
        "for zc_proxy in zc_proxies:\n",
        "    zc_predictor = ZeroCost(method_type=zc_proxy)\n",
        "    score = zc_predictor.query(graph=graph, dataloader=train_loader)\n",
        "    print(f'{zc_proxy}: {score:3f}')"
      ]
    },
    {
      "cell_type": "markdown",
      "source": [
        "Some proxies explained:\n",
        "- params - just the number of parameters in the networks\n",
        "- grad_norm - average norm of gradients in the network\n",
        "\n",
        "...but it gets more complex:\n",
        "- jacov - covariance of the Jacobian matrices in on minibatch\n",
        "- epe_nas - intra- and inter-class correlations of the prediction Jacobian matrices"
      ],
      "metadata": {
        "id": "0IlesRNKH8wm"
      }
    },
    {
      "cell_type": "markdown",
      "source": [
        "<a name=\"zcpperfpred\"></a>\n",
        "### a) Zero cost proxies for performance prediction\n",
        "In this section, we will evaluate a zero cost proxy for our sampled architectures and use them in prediction alongside the onehot features."
      ],
      "metadata": {
        "id": "lnGLeotU-Fpz"
      }
    },
    {
      "cell_type": "code",
      "source": [
        "def eval_zcp(model, zc_name, data_loader):\n",
        "  model = encode_archs(NasBench201SearchSpace(), [model], verbose=False)[0]\n",
        "  model.parse()\n",
        "  zc_pred = ZeroCost(method_type=zc_name)\n",
        "  res = zc_pred.query(graph=model, dataloader=data_loader)\n",
        "\n",
        "  return {zc_name: res}"
      ],
      "metadata": {
        "id": "eUU-m08J7rAd"
      },
      "execution_count": null,
      "outputs": []
    },
    {
      "cell_type": "code",
      "source": [
        "# NOTE - this may take a lot of time ... ~ 5 minutes\n",
        "# ...you can skip to the next part (spoilers - speedup)\n",
        "\n",
        "zcp_name = 'synflow'\n",
        "zc_only = False\n",
        "\n",
        "# train and query expect different ZCP formats for some reason\n",
        "zcp_train = {'zero_cost_scores': [eval_zcp(t_arch, zcp_name, train_loader) for t_arch in tqdm(xtrain)]}\n",
        "zcp_test = [{'zero_cost_scores': eval_zcp(t_arch, zcp_name, train_loader)} for t_arch in tqdm(xtest)]"
      ],
      "metadata": {
        "colab": {
          "base_uri": "https://localhost:8080/"
        },
        "id": "SIB9p9Xj1H4W",
        "outputId": "07b423fc-35a7-49a8-a7b1-019dc36134ac"
      },
      "execution_count": null,
      "outputs": [
        {
          "output_type": "stream",
          "name": "stderr",
          "text": [
            "100%|██████████| 100/100 [02:53<00:00,  1.74s/it]\n",
            "100%|██████████| 100/100 [02:57<00:00,  1.78s/it]\n"
          ]
        }
      ]
    },
    {
      "cell_type": "markdown",
      "source": [
        "First, evaluate the correlation of the chosen proxy with ground truth accuracies."
      ],
      "metadata": {
        "id": "l_PyavoWAT-1"
      }
    },
    {
      "cell_type": "code",
      "source": [
        "zcp_pred = [s['zero_cost_scores'][zcp_name] for s in zcp_test]\n",
        "metrics = evaluate_predictions(ytest, zcp_pred, plot=True,\n",
        "                               title=f\"NB201 accuracies vs {zcp_name}\")\n",
        "print(\"\\n\", metrics)"
      ],
      "metadata": {
        "colab": {
          "base_uri": "https://localhost:8080/",
          "height": 492
        },
        "id": "hVT43gYe9buO",
        "outputId": "7a599099-a8a9-4569-9c43-24dd410fc487"
      },
      "execution_count": null,
      "outputs": [
        {
          "output_type": "display_data",
          "data": {
            "text/plain": [
              "<Figure size 640x480 with 1 Axes>"
            ],
            "image/png": "[encoded data removed]"
          },
          "metadata": {}
        },
        {
          "output_type": "stream",
          "name": "stdout",
          "text": [
            "\n",
            " {'kendalltau': 0.5736019081376464, 'spearmanr': 0.7465972170602222}\n"
          ]
        }
      ]
    },
    {
      "cell_type": "code",
      "source": [
        "# set to True to fit only on proxy score(s) and not on architecture encoding\n",
        "zc_only = False\n",
        "\n",
        "zcp_model = XGBoost(zc=True, zc_only=zc_only)\n",
        "zcp_model.set_pre_computations(xtrain_zc_info=zcp_train)  # it is also possible to pass a numpy array to XGBoost fit"
      ],
      "metadata": {
        "id": "9SV6VyqY9R3M"
      },
      "execution_count": null,
      "outputs": []
    },
    {
      "cell_type": "code",
      "source": [
        "# even when using zc_only, you must pass a list to both fit and query (it can be empty)\n",
        "zcp_model.fit(enc_train, ytrain)\n",
        "res = zcp_model.query(enc_test, info=zcp_test)"
      ],
      "metadata": {
        "id": "xQhh4L623xxZ"
      },
      "execution_count": null,
      "outputs": []
    },
    {
      "cell_type": "markdown",
      "source": [
        "As you can see, combining onehot features with a proxy is only slightly better than just using the proxy. However, this is not always the case - for some tasks, the encoding seems to be important."
      ],
      "metadata": {
        "id": "-uIWD11yCQuy"
      }
    },
    {
      "cell_type": "code",
      "source": [
        "metrics = evaluate_predictions(ytest, res, plot=True, plot_func=lambda x: plt.xlim(75, 101),\n",
        "                               title=f\"XGBoost prediction on {'' if zc_only else 'onehot and '}{zcp_name}\")\n",
        "print(\"\\n\", metrics)"
      ],
      "metadata": {
        "colab": {
          "base_uri": "https://localhost:8080/",
          "height": 492
        },
        "id": "1gw6Kv579Cm1",
        "outputId": "e36622e7-3663-4b71-c00a-5bcdc250dfb4"
      },
      "execution_count": null,
      "outputs": [
        {
          "output_type": "display_data",
          "data": {
            "text/plain": [
              "<Figure size 640x480 with 1 Axes>"
            ],
            "image/png": "[encoded data removed]"
          },
          "metadata": {}
        },
        {
          "output_type": "stream",
          "name": "stdout",
          "text": [
            "\n",
            " {'kendalltau': 0.5675234703968731, 'spearmanr': 0.7564635061252603}\n"
          ]
        }
      ]
    },
    {
      "cell_type": "code",
      "source": [
        "expe_metrics[f\"XGBoost{'' if zc_only else '_onehot'}_{zcp_name}\"] = metrics\n",
        "expe_metrics"
      ],
      "metadata": {
        "colab": {
          "base_uri": "https://localhost:8080/"
        },
        "id": "zpuRSY1SzdI6",
        "outputId": "a01b8253-0743-445e-ba5d-f59d0e19ed86"
      },
      "execution_count": null,
      "outputs": [
        {
          "output_type": "execute_result",
          "data": {
            "text/plain": [
              "{'XGBoost_onehot': {'kendalltau': 0.4196148187047212,\n",
              "  'spearmanr': 0.5923254246600577},\n",
              " 'XGBoost_onehot_synflow': {'kendalltau': 0.5675234703968731,\n",
              "  'spearmanr': 0.7564635061252603}}"
            ]
          },
          "metadata": {},
          "execution_count": 35
        }
      ]
    },
    {
      "cell_type": "markdown",
      "metadata": {
        "id": "uttJn87O3TwO"
      },
      "source": [
        "### b) Zero Cost Proxy Benchmarks\n",
        "\n",
        "Just like NAS-Benchmark APIs, NASLib contains Zero Cost Benchmark APIs in order to speed-up NAS research even further. The Zero Cost Benchmark API (or [NAS-Bench-Suite Zero](https://openreview.net/forum?id=yWhuIjIjH8k) [2]) lets you instantly query the Zero Cost proxy scores for a given model and search space.\n",
        "\n",
        "For example, if your black-box optimizer uses Zero Cost proxies, you could use the benchmark to run the experiments much faster by simply querying them for the scores instead of explicitly calling the Zero Cost Predictor.\n",
        "Another good use-case is analysing the zero-cost proxies across all available networks, and identifying network properties with high scores.\n",
        "\n",
        "We have already downloaded the Zero Cost Benchmark API for NAS-Bench-201, which has the scores for all 15625 models evaluated for all three datasets (CIFAR-10, CIFAR-100 and ImageNet16-120) using all 13 Zero Cost proxies.\n",
        "\n",
        "[2] Krishnakumar et al. *NAS-Bench-Suite-Zero: Accelerating Research on Zero Cost Proxies*. Neurips 2022.\n"
      ]
    },
    {
      "cell_type": "code",
      "execution_count": null,
      "metadata": {
        "colab": {
          "base_uri": "https://localhost:8080/"
        },
        "outputId": "f77cf3f1-ec6b-4303-a8f2-46cd9ed200c3",
        "id": "qWWW31lrmODu"
      },
      "outputs": [
        {
          "output_type": "stream",
          "name": "stdout",
          "text": [
            "All the data available in the Zero Cost benchmark for model (1, 3, 3, 0, 2, 0): \n",
            "{'score': 2.651945114135742, 'time': 2.7753620259463787}\n",
            "Score of model with spec (1, 3, 3, 0, 2, 0) for Zero Cost proxies grasp: 2.651945114135742\n",
            "Time taken to compute the score for the model: 2.78s\n"
          ]
        }
      ],
      "source": [
        "from naslib.utils import get_zc_benchmark_api\n",
        "\n",
        "# Load the Zero Cost Benchmark API for NAS-Bench-201 CIFAR-10\n",
        "zc_api = get_zc_benchmark_api('nasbench201', 'cifar10')\n",
        "\n",
        "# Use the Zero Cost Benchmark to get the score for the model for a particular ZC proxy\n",
        "pred = 'grasp'\n",
        "spec = xtrain[0]\n",
        "\n",
        "# The Zero Cost Benchmarks are simply dictionaries, and the key used to query a model\n",
        "# is sim the stringified NASLib representation of that model\n",
        "score = zc_api[str(spec)][pred]['score']\n",
        "time_to_compute = zc_api[str(spec)][pred]['time']\n",
        "\n",
        "print(f'All the data available in the Zero Cost benchmark for model {spec}: ')\n",
        "print(zc_api[str(spec)][pred])\n",
        "print(f'Score of model with spec {spec} for Zero Cost proxies {pred}: {score}')\n",
        "print(f'Time taken to compute the score for the model: {time_to_compute:.2f}s')"
      ]
    },
    {
      "cell_type": "code",
      "source": [
        "# using the zc benchmark api, we can easily get all available proxies as well as validation accuracy\n",
        "def query_models(arch_data, api):\n",
        "  zc = []\n",
        "  target = []\n",
        "\n",
        "  for arch in arch_data:\n",
        "    entry = api[str(arch)]\n",
        "    zc.append({z: e['score'] for z, e in entry.items() if z != 'id' and z != 'val_accuracy'})\n",
        "    target.append(entry['val_accuracy'])\n",
        "\n",
        "  return zc, target"
      ],
      "metadata": {
        "id": "oV6i02iAKyav"
      },
      "execution_count": null,
      "outputs": []
    },
    {
      "cell_type": "markdown",
      "source": [
        "## TASK 2 (10 min)\n",
        "Solve 2a first, 2b is a bonus task"
      ],
      "metadata": {
        "id": "5bNcTXyRYNTQ"
      }
    },
    {
      "cell_type": "markdown",
      "source": [
        "## TASK 2a: XGBoost and all proxies\n",
        "Using `query_models`, get all available proxies corresponding to `xtrain` and `xtest` and use them in XGBoost prediction. You can compare using them with onehot features or without them, or using only *a* subset of the proxies."
      ],
      "metadata": {
        "id": "UJAhpEB_7t64"
      }
    },
    {
      "cell_type": "markdown",
      "source": [
        "Look at the [previous examples](#zcpperfpred) for the correct argument format:\n",
        "- required format for train is `{'zero_cost_scores': score_list}`, where\n",
        "`score_list` contains entries `{'synflow': 25.0, 'nwot': 486.0, ...}`\n",
        "- required test format is `[{'zero_cost_scores: {'synflow': 25.0 ...} ...]`"
      ],
      "metadata": {
        "id": "eprCVqAQ57bh"
      }
    },
    {
      "cell_type": "code",
      "source": [
        "########## START TODO ############\n",
        "\n",
        "# 1. Query train and test models, hold to the given format\n",
        "# 2. Create a XGBoost model and call `set_pre_computations()`\n",
        "# 3. Fit and predict using the proxies, evaluate and plot the results.\n",
        "# 4. Save the results to `expe_metrics` dict and try a different combination (e.g. zc_only)\n",
        "#    - or go to 2b if you don't want to run more experiments\n",
        "\n",
        "# Write your code here\n",
        "\n",
        "########## END TODO ##############"
      ],
      "metadata": {
        "id": "AtLOavMDFAto"
      },
      "execution_count": null,
      "outputs": []
    },
    {
      "cell_type": "markdown",
      "source": [
        "## TASK 2b: Analysis of networks and proxies\n",
        "Look at top scored networks (e.g. top 10 scored by synflow) and try to see some common property - what ops do they contain and on what positions?\n",
        "\n",
        "The NB201 architectures have the following format:\n",
        "- 0 - skip-connection, 1 - zero, 2 - conv3x3, 3 - conv1x1, 4 - avg pooling\n",
        "- Edges: `[(1,2), (1,3), (1,4), (2,3), (2,4), (1,4)]` ... (node_from, node_to)"
      ],
      "metadata": {
        "id": "tb6t-ElG7xwA"
      }
    },
    {
      "cell_type": "code",
      "source": [
        "########## START TODO ############\n",
        "\n",
        "# 1. Using zc_api, get all network encoding and scores of 1 proxy (e.g. synflow)\n",
        "# 2. Sort network encodings by the proxy score, try to explain what networks have high scores.\n",
        "\n",
        "# Write your code here\n",
        "\n",
        "########## END TODO ##############"
      ],
      "metadata": {
        "id": "k6QZHmp7FerN"
      },
      "execution_count": null,
      "outputs": []
    },
    {
      "cell_type": "markdown",
      "source": [
        "<a name=\"exte\"></a>\n",
        "# 4. Extensions\n",
        "In this section and in the following section 5., we will reuse the same datasets and api defined in the previous sections on more advanced tasks:\n",
        "- robustness\n",
        "- implementing a new proxy\n",
        "- (s. 5.) transfer to other datasets/search spaces\n",
        "\n",
        "If you want to dig deep into one of these tasks, feel free to skip and work on your own (especially if the time estimate was too optimistic). Every task has suggestions for extensions that you can explore."
      ],
      "metadata": {
        "id": "mpiE1UQHW59i"
      }
    },
    {
      "cell_type": "markdown",
      "source": [
        "## Robustness tasks\n",
        "In this exercise, you will fit a performance predictor on a different target - namely robustness tasks. The\n",
        "[Neural Architecture Design and Robustness](https://steffen-jung.github.io/robustness/) is a dataset of NB201 models evaluated on various robustness tasks and different perturbation magnitude values (eps).\n",
        "\n",
        "You also learn here how to integrate NASLib and other api - these can use different architecture encodings, and you can use NASLib conversion functions to unify them."
      ],
      "metadata": {
        "id": "XJ2ZS6hnLfcZ"
      }
    },
    {
      "cell_type": "code",
      "source": [
        "!gdown 1D3oN_VDdibKGcmbUJm6e6slXcPoN8yty  -q\n",
        "!unzip -qo robustness-data.zip\n",
        "!git clone https://github.com/steffen-jung/robustness-dataset -q"
      ],
      "metadata": {
        "id": "lZos9oTbJ2Ki"
      },
      "execution_count": null,
      "outputs": []
    },
    {
      "cell_type": "code",
      "source": [
        "import sys\n",
        "if 'robustness-dataset' not in sys.path:\n",
        "  sys.path.append('robustness-dataset')"
      ],
      "metadata": {
        "id": "-HyGC3eXN-SF"
      },
      "execution_count": null,
      "outputs": []
    },
    {
      "cell_type": "code",
      "source": [
        "from robustness_dataset import RobustnessDataset\n",
        "\n",
        "data = RobustnessDataset(path=\"robustness-data\")"
      ],
      "metadata": {
        "id": "c0kuEbOaNTXX"
      },
      "execution_count": null,
      "outputs": []
    },
    {
      "cell_type": "code",
      "source": [
        "# The available robustness tasks\n",
        "data.keys_adv"
      ],
      "metadata": {
        "colab": {
          "base_uri": "https://localhost:8080/"
        },
        "id": "rr3-IwDvOFxz",
        "outputId": "d22afd97-b785-48f1-99a2-65a57c3f1a0d"
      },
      "execution_count": null,
      "outputs": [
        {
          "output_type": "execute_result",
          "data": {
            "text/plain": [
              "['aa_apgd-ce@Linf', 'aa_square@Linf', 'fgsm@Linf', 'pgd@Linf']"
            ]
          },
          "metadata": {},
          "execution_count": 41
        }
      ]
    },
    {
      "cell_type": "code",
      "source": [
        "# Different perturbation magnitudes of the attack\n",
        "data.meta[\"epsilons\"]['fgsm@Linf']"
      ],
      "metadata": {
        "colab": {
          "base_uri": "https://localhost:8080/"
        },
        "id": "IP7YWQg8Qeq-",
        "outputId": "c3be6fab-f533-4e6c-c29b-cfb5458eefc3"
      },
      "execution_count": null,
      "outputs": [
        {
          "output_type": "execute_result",
          "data": {
            "text/plain": [
              "[0.1, 0.5, 1.0, 2.0, 3.0, 4.0, 5.0, 6.0, 7.0, 8.0, 255.0]"
            ]
          },
          "metadata": {},
          "execution_count": 42
        }
      ]
    },
    {
      "cell_type": "code",
      "source": [
        "# Accuracies per each eps value of the attack\n",
        "res = data.query(data=data.data_cifar10, key='fgsm@Linf', measure='accuracy')\n",
        "res['cifar10']['fgsm@Linf']['accuracy']['0']"
      ],
      "metadata": {
        "colab": {
          "base_uri": "https://localhost:8080/"
        },
        "id": "eU_k7uH-KYMQ",
        "outputId": "d0c14ca0-3a33-47fe-8ad7-d0e21fa319f7"
      },
      "execution_count": null,
      "outputs": [
        {
          "output_type": "execute_result",
          "data": {
            "text/plain": [
              "[0.806, 0.582, 0.35, 0.13, 0.066, 0.046, 0.038, 0.038, 0.042, 0.048, 0.102]"
            ]
          },
          "metadata": {},
          "execution_count": 43
        }
      ]
    },
    {
      "cell_type": "code",
      "source": [
        "# In the dataset, the string representation of NB201 is used\n",
        "data.meta['ids']['0']"
      ],
      "metadata": {
        "colab": {
          "base_uri": "https://localhost:8080/"
        },
        "id": "8Gfzu_JOStOr",
        "outputId": "eb34dda6-e1f2-4b80-ba84-22b87d0963af"
      },
      "execution_count": null,
      "outputs": [
        {
          "output_type": "execute_result",
          "data": {
            "text/plain": [
              "{'nb201-string': '|avg_pool_3x3~0|+|nor_conv_1x1~0|skip_connect~1|+|nor_conv_1x1~0|skip_connect~1|skip_connect~2|',\n",
              " 'isomorph': '0'}"
            ]
          },
          "metadata": {},
          "execution_count": 44
        }
      ]
    },
    {
      "cell_type": "code",
      "source": [
        "from naslib.search_spaces.nasbench201.conversions import convert_str_to_op_indices\n",
        "\n",
        "# NASLib-to-str_repre map - to connect the two APIs\n",
        "spec_to_ids_map = {}\n",
        "\n",
        "for str_repre in data.meta['ids'].values():\n",
        "  spec = convert_str_to_op_indices(str_repre['nb201-string'])\n",
        "  spec_to_ids_map[spec] = str_repre['isomorph']"
      ],
      "metadata": {
        "id": "GjANQMyTSH8h"
      },
      "execution_count": null,
      "outputs": []
    },
    {
      "cell_type": "code",
      "source": [
        "# Query robust metrics of a NASLib graph\n",
        "graph = NasBench201SearchSpace()\n",
        "graph.sample_random_architecture()\n",
        "robustness_id = spec_to_ids_map[graph.get_hash()]\n",
        "\n",
        "print(graph.get_hash())\n",
        "print(graph.query(Metric.VAL_ACCURACY, 'cifar10', dataset_api=dataset_apis['NASBench201-cifar10']))\n",
        "print(res['cifar10']['fgsm@Linf']['accuracy'][robustness_id])"
      ],
      "metadata": {
        "id": "hGHuUrqATEV-",
        "colab": {
          "base_uri": "https://localhost:8080/"
        },
        "outputId": "c91ec130-54b6-4600-842d-e3c7af0c5f6b"
      },
      "execution_count": null,
      "outputs": [
        {
          "output_type": "stream",
          "name": "stdout",
          "text": [
            "(2, 0, 0, 3, 0, 0)\n",
            "85.57\n",
            "[0.827, 0.505, 0.253, 0.105, 0.074, 0.06, 0.056, 0.054, 0.054, 0.058, 0.093]\n"
          ]
        }
      ]
    },
    {
      "cell_type": "markdown",
      "source": [
        "## TASKS 3 and 4 (15 min)"
      ],
      "metadata": {
        "id": "6fjJee_HZNgM"
      }
    },
    {
      "cell_type": "markdown",
      "source": [
        "## TASK 3: Predict robustness!\n",
        "Run performance prediction on a chosen robustness task.\n",
        "\n",
        "This task was approached in this [recent paper](https://arxiv.org/pdf/2307.09365.pdf).\n"
      ],
      "metadata": {
        "id": "euKmTtpxSDPI"
      }
    },
    {
      "cell_type": "code",
      "source": [
        "########## START TODO ############\n",
        "\n",
        "# 1. Choose one of the robustness tasks and a value of epsilon.\n",
        "# 2. Get target accuracy that corresponds to xtrain and xtest.\n",
        "# 3. Fit a performance predictor just like in the previous tasks.\n",
        "# 4. Compare the results with clean accuracy.\n",
        "\n",
        "# Optionally:\n",
        "# 5a. compare results on all available epsilon values, plot them.\n",
        "# 5b. compare results across all tasks for one eps value.\n",
        "\n",
        "# Write your code here\n",
        "\n",
        "########## END TODO ##############"
      ],
      "metadata": {
        "id": "GCubKjkbVQi7"
      },
      "execution_count": null,
      "outputs": []
    },
    {
      "cell_type": "markdown",
      "source": [
        "## TASK 4: Write your own proxy!\n",
        "The following code integrates a new proxy function directly into NASLib.\n",
        "\n",
        "- @measure registeres the `\"weight_std\"` function that can be used to score networks (a simple dummy function[text odkazu](https://)).\n",
        "- In the code, `get_layer_metric_array(net, func)` computes func of every linear/conv layer of net, `mode` can be in our case anything but `channel`\n",
        "- Look at available [proxy code](https://github.com/automl/NASLib/tree/Develop/naslib/predictors/utils/pruners/measures) for inspiration"
      ],
      "metadata": {
        "id": "_M6sj3Th6B4Y"
      }
    },
    {
      "cell_type": "code",
      "source": [
        "from naslib.predictors.utils.pruners.measures import measure\n",
        "from naslib.predictors.utils.pruners.p_utils import get_layer_metric_array\n",
        "\n",
        "\n",
        "# copy net should be True if you modify the network\n",
        "@measure(\"weight_std\", copy_net=False, mode=\"param\")\n",
        "def get_l2_norm_array(net, inputs, targets, mode, split_data=1, **kwargs):\n",
        "    return get_layer_metric_array(net, lambda l: l.weight.std(), mode=mode)"
      ],
      "metadata": {
        "id": "RBGXdzy9TXrb"
      },
      "execution_count": null,
      "outputs": []
    },
    {
      "cell_type": "code",
      "source": [
        "from naslib.predictors.utils.pruners.measures import _measure_impls, available_measures\n",
        "\n",
        "def delete_measure(name):\n",
        "  del _measure_impls[name]\n",
        "  for i in range(len(available_measures)):\n",
        "    if available_measures[i] == name:\n",
        "      available_measures.pop(i)\n",
        "      break"
      ],
      "metadata": {
        "id": "THiAnPz3AOUR"
      },
      "execution_count": null,
      "outputs": []
    },
    {
      "cell_type": "code",
      "source": [
        "# Once registering a proxy with @measure, it can't be registered again.\n",
        "# Use the following function to delete it.\n",
        "\n",
        "#delete_measure('weight_std')"
      ],
      "metadata": {
        "id": "po6QuMUfAvNF"
      },
      "execution_count": null,
      "outputs": []
    },
    {
      "cell_type": "code",
      "source": [
        "new_proxy = ZeroCost(method_type='weight_std')\n",
        "graph = NasBench201SearchSpace()\n",
        "graph.sample_random_architecture()\n",
        "graph.parse()\n",
        "\n",
        "score = new_proxy.query(graph=graph, dataloader=train_loader)\n",
        "score"
      ],
      "metadata": {
        "colab": {
          "base_uri": "https://localhost:8080/"
        },
        "id": "jTMnmPFSTXu9",
        "outputId": "53b231d2-a742-4d9f-84db-cf9a755c0bb8"
      },
      "execution_count": null,
      "outputs": [
        {
          "output_type": "execute_result",
          "data": {
            "text/plain": [
              "1.105041265487671"
            ]
          },
          "metadata": {},
          "execution_count": 132
        }
      ]
    },
    {
      "cell_type": "code",
      "source": [
        "########## START TODO ############\n",
        "\n",
        "# 1. Think of some metric that could capture network performance.\n",
        "# 2. Evaluate the proxy on a graph to verify it runs. In case of bugs, run delete_measure(proxname) and then modify the function.\n",
        "# 3. Once you have a proxy, evaluate it for all train and test networks and compute correlation metrics.\n",
        "# 4. You can also compute correlations with other available proxies -\n",
        "#    a high correlation could also mean a bias towards an existing proxy, e.g. params.\n",
        "\n",
        "# Write your code here\n",
        "\n",
        "########## END TODO ##############"
      ],
      "metadata": {
        "id": "sf8b_O-XT_Qu"
      },
      "execution_count": null,
      "outputs": []
    },
    {
      "cell_type": "markdown",
      "source": [
        "<a name=\"transfer\"></a>\n",
        "# 5. Transfer - performance prediction on an unseen task\n",
        "\n",
        "Zero cost proxies can be used as search space agnostic features and used in transfer learning. In this part, we will train a MLP performance predictor on cifar10, and then transfer to ImageNet.\n",
        "\n",
        "Recent work employing ZCP transfer - [MultiPredict](https://openreview.net/forum?id=14U6uzrh-wr)."
      ],
      "metadata": {
        "id": "Dq-YWuc21ofG"
      }
    },
    {
      "cell_type": "markdown",
      "source": [
        "### MLP network code"
      ],
      "metadata": {
        "id": "nPav49ZuCdxH"
      }
    },
    {
      "cell_type": "code",
      "source": [
        "# TODO credit eaglu\n",
        "# try both batchnorm and layer norm\n",
        "\n",
        "import torch\n",
        "import torch.nn as nn\n",
        "import math\n",
        "\n",
        "class MLP(nn.Module):\n",
        "  def __init__(self, n_inputs, n_layers=2, n_hidden=32, dropout=0, use_batchnorm=False):\n",
        "\n",
        "    super().__init__()\n",
        "\n",
        "    norm = nn.BatchNorm if use_batchnorm else nn.LayerNorm\n",
        "\n",
        "    self.mlp = nn.ModuleList([nn.Linear(n_inputs if i == 0 else n_hidden, n_hidden) for i in range(n_layers)])\n",
        "    self.bn = nn.ModuleList([norm(n_hidden) for i in range(n_layers)])\n",
        "    self.relu = nn.ModuleList([nn.ReLU() for i in range(n_layers)])\n",
        "    self.fc = nn.Linear(n_hidden, 1)\n",
        "    self.dropout = nn.ModuleList([nn.Dropout(dropout) for i in range(n_layers)])\n",
        "\n",
        "  def forward(self, x):\n",
        "    x = self.relu[0](self.bn[0](self.mlp[0](x)))\n",
        "    x = self.dropout[0](x)\n",
        "\n",
        "    for i in range(1, len(self.mlp)):\n",
        "      x = self.relu[i](self.bn[i](self.mlp[i](x)))\n",
        "      x = self.dropout[i](x)\n",
        "\n",
        "    return self.fc(x)\n",
        "\n",
        "  def freeze_weights(self, value=False, reset_last=True):\n",
        "    for lin in self.mlp:\n",
        "      lin.requires_grad = value\n",
        "    for bn in self.bn:\n",
        "      bn.requires_grad = value\n",
        "\n",
        "    self.reset_last()\n",
        "\n",
        "  def reset_last(self):\n",
        "    self.fc.reset_parameters()"
      ],
      "metadata": {
        "id": "AHYOcHL53DB6"
      },
      "execution_count": null,
      "outputs": []
    },
    {
      "cell_type": "markdown",
      "source": [
        "### MLP Predictor code"
      ],
      "metadata": {
        "id": "Sb0jdkrMAVlf"
      }
    },
    {
      "cell_type": "code",
      "source": [
        "import numpy as np\n",
        "from torch import optim\n",
        "from torch.utils.data import DataLoader, TensorDataset\n",
        "from naslib.predictors.trees.base_tree_class import BaseTree\n",
        "from naslib.utils import AverageMeterGroup\n",
        "\n",
        "\n",
        "class MLPPredictor(BaseTree):\n",
        "  def __init__(self, model=None, model_kwargs=None, encoding_type=None, zc=False, zc_only=False):\n",
        "    super().__init__(encoding_type=encoding_type, zc=zc, zc_only=zc_only)\n",
        "    self.model = model\n",
        "    self.model_kwargs = model_kwargs if model_kwargs is not None else {}\n",
        "    self.n_inputs = None\n",
        "\n",
        "  def get_transferable_model(self, freeze=True):\n",
        "    if self.model is None:\n",
        "      raise ValueError(\"Must call fit before a model can be transferred.\")\n",
        "\n",
        "    model = MLP(self.n_inputs, **self.model_kwargs)\n",
        "    model.load_state_dict(self.model.state_dict())\n",
        "    if freeze:\n",
        "      model.freeze_weights()\n",
        "    return model\n",
        "\n",
        "  def fit(self, xtrain, ytrain, train_info=None, epochs=500, lr=1e-4, loss=None, verbose=0, weight_decay=5.0e-4, device=None, batch_size=32, print_freq=100):\n",
        "    # normalize accuracies\n",
        "    self.mean = np.mean(ytrain)\n",
        "    self.std = np.std(ytrain)\n",
        "\n",
        "    if isinstance(xtrain[0], nn.Module):\n",
        "      xtrain = np.array([arch.encode(encoding_type=self.encoding_type) for arch in xtrain])\n",
        "    if self.zc:\n",
        "      if self.zc_only:\n",
        "          xtrain = self.zc_features\n",
        "      else:\n",
        "          xtrain = [[*x, *zc_scores] for x, zc_scores in zip (xtrain, self.zc_features)]\n",
        "\n",
        "      xtrain = np.array(xtrain)\n",
        "      ytrain = (np.array(ytrain) - self.mean) / self.std\n",
        "\n",
        "    if self.model is None:\n",
        "      self.n_inputs = xtrain.shape[1]\n",
        "      self.model = MLP(self.n_inputs, **self.model_kwargs)\n",
        "\n",
        "    self.model.to(device)\n",
        "\n",
        "    criterion = loss.to(device) if loss is not None else nn.MSELoss().to(device)\n",
        "    optimizer = optim.AdamW(self.model.parameters(), lr=lr, weight_decay=weight_decay)\n",
        "    scheduler = optim.lr_scheduler.CosineAnnealingLR(optimizer, T_max=epochs, eta_min=0.0)\n",
        "\n",
        "    X_tensor = torch.FloatTensor(xtrain).to(device)\n",
        "    y_tensor = torch.FloatTensor(ytrain).to(device)\n",
        "    train_data = TensorDataset(X_tensor, y_tensor)\n",
        "    data_loader = DataLoader(\n",
        "        train_data,\n",
        "        batch_size=batch_size,\n",
        "        shuffle=True,\n",
        "        drop_last=False,\n",
        "        pin_memory=False,\n",
        "    )\n",
        "\n",
        "    self.model.train()\n",
        "\n",
        "    for e in range(epochs):\n",
        "      meters = AverageMeterGroup()\n",
        "      for b, batch in enumerate(data_loader):\n",
        "        optimizer.zero_grad()\n",
        "        input = batch[0].to(device)\n",
        "        target = batch[1].to(device)\n",
        "        prediction = self.model(input).view(-1)\n",
        "\n",
        "        loss_fn = criterion(prediction, target)\n",
        "        loss_fn.backward()\n",
        "        optimizer.step()\n",
        "\n",
        "        meters.update(\n",
        "            {\"loss\": loss_fn.item()}, n=target.size(0)\n",
        "        )\n",
        "\n",
        "      scheduler.step()\n",
        "\n",
        "      if verbose and e % print_freq == 0:\n",
        "          print(\"Epoch {}, {}\".format(e, meters[\"loss\"]))\n",
        "\n",
        "  def query(self, xtest, info=None, eval_batch_size=None, device=None):\n",
        "      if isinstance(xtest[0], nn.Module):\n",
        "        xtest = np.array([arch.encode(encoding_type=self.encoding_type) for arch in xtest])\n",
        "      if self.zc:\n",
        "        zc_scores = [self.create_zc_feature_vector(data['zero_cost_scores']) for data in info]\n",
        "        if self.zc_only:\n",
        "          xtest = zc_scores\n",
        "        else:\n",
        "          xtest = [[*x, *zc] for x, zc in zip(xtest, zc_scores)]\n",
        "        xtest = np.array(xtest)\n",
        "\n",
        "      X_tensor = torch.FloatTensor(xtest).to(device)\n",
        "      test_data = TensorDataset(X_tensor)\n",
        "\n",
        "      eval_batch_size = len(xtest) if eval_batch_size is None else eval_batch_size\n",
        "      test_data_loader = DataLoader(\n",
        "          test_data, batch_size=eval_batch_size, pin_memory=False\n",
        "      )\n",
        "\n",
        "      self.model.eval()\n",
        "      pred = []\n",
        "      with torch.no_grad():\n",
        "          for _, batch in enumerate(test_data_loader):\n",
        "              prediction = self.model(batch[0].to(device)).view(-1)\n",
        "              pred.append(prediction.cpu().numpy())\n",
        "\n",
        "      pred = np.concatenate(pred)\n",
        "      return np.squeeze(pred) * self.std + self.mean"
      ],
      "metadata": {
        "id": "mSbRft9u3DEi"
      },
      "execution_count": null,
      "outputs": []
    },
    {
      "cell_type": "markdown",
      "source": [
        "## Train MLP\n",
        "First, train the MLP predictor on cifar10 just like XGBoost before."
      ],
      "metadata": {
        "id": "p8JZsCRuAfOv"
      }
    },
    {
      "cell_type": "code",
      "source": [
        "zc_only = False\n",
        "\n",
        "# We reuse the queried proxy values from Task 2a\n",
        "# If you did not do the task, query the zc_api (look below for ImageNet examples\n",
        "# for a hint).\n",
        "mlp_pred = MLPPredictor(zc=True, zc_only=zc_only)\n",
        "mlp_pred.set_pre_computations(xtrain_zc_info=zcp_train_query)\n",
        "mlp_pred.fit(enc_train, ytrain, verbose=True, epochs=800)"
      ],
      "metadata": {
        "id": "Gz_VloHb3DHL",
        "colab": {
          "base_uri": "https://localhost:8080/"
        },
        "outputId": "321d1621-646a-456f-c1ef-b1d34a34290a"
      },
      "execution_count": null,
      "outputs": [
        {
          "output_type": "stream",
          "name": "stdout",
          "text": [
            "Epoch 0, loss 1.279467 (1.876176)\n",
            "Epoch 100, loss 0.048737 (0.310955)\n",
            "Epoch 200, loss 0.003437 (0.243542)\n",
            "Epoch 300, loss 0.014324 (0.229517)\n",
            "Epoch 400, loss 0.045835 (0.222180)\n",
            "Epoch 500, loss 0.006818 (0.218166)\n",
            "Epoch 600, loss 0.014593 (0.216506)\n",
            "Epoch 700, loss 0.171321 (0.215684)\n"
          ]
        }
      ]
    },
    {
      "cell_type": "code",
      "source": [
        "res = mlp_pred.query(enc_test, info=zcp_test_query)"
      ],
      "metadata": {
        "id": "dwXpxexL3DKm"
      },
      "execution_count": null,
      "outputs": []
    },
    {
      "cell_type": "code",
      "source": [
        "metrics = evaluate_predictions(ytest, res, plot=False,\n",
        "                               title=f\"MLP prediction on {'' if zc_only else 'onehot and '}all proxies\")\n",
        "print(\"\\n\", metrics)"
      ],
      "metadata": {
        "colab": {
          "base_uri": "https://localhost:8080/"
        },
        "id": "Ul1HGlV9C_kF",
        "outputId": "a366ead1-6866-4f78-b9a4-9be0e2463f0d"
      },
      "execution_count": null,
      "outputs": [
        {
          "output_type": "stream",
          "name": "stdout",
          "text": [
            "\n",
            " {'kendalltau': 0.6315496812663526, 'spearmanr': 0.801816028305609}\n"
          ]
        }
      ]
    },
    {
      "cell_type": "code",
      "source": [
        "expe_metrics[f\"MLP{'' if zc_only else '_onehot'}_all-proxies\"] = metrics\n",
        "expe_metrics"
      ],
      "metadata": {
        "colab": {
          "base_uri": "https://localhost:8080/"
        },
        "id": "nrH6PRZLnqUb",
        "outputId": "7cc18c77-f871-4993-9ee2-6b295f206581"
      },
      "execution_count": null,
      "outputs": [
        {
          "output_type": "execute_result",
          "data": {
            "text/plain": [
              "{'XGBoost_onehot': {'kendalltau': 0.4196148187047212,\n",
              "  'spearmanr': 0.5923254246600577},\n",
              " 'XGBoost_onehot_synflow': {'kendalltau': 0.5675234703968731,\n",
              "  'spearmanr': 0.7564635061252603},\n",
              " 'XGBoost_onehot_all-proxies': {'kendalltau': 0.6700464536245839,\n",
              "  'spearmanr': 0.8408730898842394},\n",
              " 'XGBoost_all-proxies': {'kendalltau': 0.6765301205480754,\n",
              "  'spearmanr': 0.8456922079616271},\n",
              " 'MLP_all-proxies': {'kendalltau': 0.6315496812663526,\n",
              "  'spearmanr': 0.801816028305609}}"
            ]
          },
          "metadata": {},
          "execution_count": 145
        }
      ]
    },
    {
      "cell_type": "markdown",
      "source": [
        "In the same way, you can train on ImageNet"
      ],
      "metadata": {
        "id": "JuxJz0lyaYdL"
      }
    },
    {
      "cell_type": "code",
      "source": [
        "zc_api_img = get_zc_benchmark_api('nasbench201', 'ImageNet16-120')"
      ],
      "metadata": {
        "id": "YfdfhUuIspPZ"
      },
      "execution_count": null,
      "outputs": []
    },
    {
      "cell_type": "code",
      "source": [
        "img_zcs_train, img_ytrain = query_models(xtrain, zc_api_img)\n",
        "img_zcs_test, img_ytest = query_models(xtest, zc_api_img)"
      ],
      "metadata": {
        "id": "_lK3WA78uf8D"
      },
      "execution_count": null,
      "outputs": []
    },
    {
      "cell_type": "code",
      "source": [
        "img_mlp_pred = MLPPredictor(zc=True)\n",
        "img_mlp_pred.set_pre_computations(xtrain_zc_info={'zero_cost_scores': img_zcs_train})\n",
        "img_mlp_pred.fit(enc_train, img_ytrain, verbose=True, epochs=800)"
      ],
      "metadata": {
        "colab": {
          "base_uri": "https://localhost:8080/"
        },
        "id": "9co6RhG7uuMK",
        "outputId": "e5280f31-92a1-428a-928b-9bcae5f548e8"
      },
      "execution_count": null,
      "outputs": [
        {
          "output_type": "stream",
          "name": "stdout",
          "text": [
            "Epoch 0, loss 0.341579 (1.091560)\n",
            "Epoch 100, loss 0.134246 (0.190684)\n",
            "Epoch 200, loss 0.399663 (0.148886)\n",
            "Epoch 300, loss 0.119094 (0.122508)\n",
            "Epoch 400, loss 0.190656 (0.104362)\n",
            "Epoch 500, loss 0.070478 (0.091424)\n",
            "Epoch 600, loss 0.050931 (0.082913)\n",
            "Epoch 700, loss 0.053259 (0.080002)\n"
          ]
        }
      ]
    },
    {
      "cell_type": "code",
      "source": [
        "res = img_mlp_pred.query(enc_test, info=[{'zero_cost_scores': v} for v in img_zcs_test])"
      ],
      "metadata": {
        "id": "yUsvYALHu3GC"
      },
      "execution_count": null,
      "outputs": []
    },
    {
      "cell_type": "code",
      "source": [
        "metrics = evaluate_predictions(img_ytest, res, plot=False,\n",
        "                               title=f\"MLP prediction on {'' if zc_only else 'onehot and '}all proxies\")\n",
        "print(\"\\n\", metrics)"
      ],
      "metadata": {
        "colab": {
          "base_uri": "https://localhost:8080/"
        },
        "id": "WSyNGED6vA4f",
        "outputId": "5e60d910-c3c8-4269-eae7-4e78ec3ae0f5"
      },
      "execution_count": null,
      "outputs": [
        {
          "output_type": "stream",
          "name": "stdout",
          "text": [
            "\n",
            " {'kendalltau': 0.6701687073290559, 'spearmanr': 0.8527958379751494}\n"
          ]
        }
      ]
    },
    {
      "cell_type": "markdown",
      "source": [
        "## Do the tranfer!\n",
        "\n",
        "We will try a cifar predictor again just to have the code here (and avoid scrolling). We will use only the proxies so that the model is more general."
      ],
      "metadata": {
        "id": "eF76BAHREHrV"
      }
    },
    {
      "cell_type": "code",
      "source": [
        "zc_only = True\n",
        "\n",
        "cifar_pred = MLPPredictor(zc=True, zc_only=zc_only)\n",
        "cifar_pred.set_pre_computations(xtrain_zc_info=zcp_train_query)\n",
        "cifar_pred.fit(enc_train, ytrain, verbose=True, epochs=800)"
      ],
      "metadata": {
        "colab": {
          "base_uri": "https://localhost:8080/"
        },
        "id": "j552CFxaw8G_",
        "outputId": "14fd1545-92b2-4d0b-dbab-3e3ea31e3609"
      },
      "execution_count": null,
      "outputs": [
        {
          "output_type": "stream",
          "name": "stdout",
          "text": [
            "Epoch 0, loss 0.780922 (1.556631)\n",
            "Epoch 100, loss 0.038344 (0.475629)\n",
            "Epoch 200, loss 0.156101 (0.288899)\n",
            "Epoch 300, loss 0.240659 (0.249819)\n",
            "Epoch 400, loss 0.012909 (0.235773)\n",
            "Epoch 500, loss 0.042424 (0.229011)\n",
            "Epoch 600, loss 0.016789 (0.225917)\n",
            "Epoch 700, loss 0.013939 (0.224755)\n"
          ]
        }
      ]
    },
    {
      "cell_type": "code",
      "source": [
        "res = cifar_pred.query(enc_test, info=zcp_test_query)\n",
        "evaluate_predictions(ytest, res, plot=False)"
      ],
      "metadata": {
        "colab": {
          "base_uri": "https://localhost:8080/"
        },
        "id": "kFHQSK-Uw8K0",
        "outputId": "119a6130-5595-44ad-a886-1ea7513382d2"
      },
      "execution_count": null,
      "outputs": [
        {
          "output_type": "execute_result",
          "data": {
            "text/plain": [
              "{'kendalltau': 0.6542425154985732, 'spearmanr': 0.8220767289647142}"
            ]
          },
          "metadata": {},
          "execution_count": 248
        }
      ]
    },
    {
      "cell_type": "markdown",
      "source": [
        "If you evaluate the predictor on ImageNet zero cost proxy values, you can see that the correlation is already pretty high!"
      ],
      "metadata": {
        "id": "y8_viLjQatw-"
      }
    },
    {
      "cell_type": "code",
      "source": [
        "res = cifar_pred.query(enc_test, info=[{'zero_cost_scores': v} for v in img_zcs_test])\n",
        "evaluate_predictions(img_ytest, res, plot=False)"
      ],
      "metadata": {
        "colab": {
          "base_uri": "https://localhost:8080/"
        },
        "id": "N74uySGsyR6b",
        "outputId": "5499aacc-2bed-4939-9247-7947f034f61a"
      },
      "execution_count": null,
      "outputs": [
        {
          "output_type": "execute_result",
          "data": {
            "text/plain": [
              "{'kendalltau': 0.5638953458412406, 'spearmanr': 0.7307792702681265}"
            ]
          },
          "metadata": {},
          "execution_count": 249
        }
      ]
    },
    {
      "cell_type": "markdown",
      "source": [
        "It is even higher when using cifar10 proxy values and ImageNet targets. This is because cifar10 and ImageNet are similar tasks, however, we won't be so lucky for other tasks."
      ],
      "metadata": {
        "id": "0XURkFp8a2ja"
      }
    },
    {
      "cell_type": "code",
      "source": [
        "res = cifar_pred.query(enc_test, info=zcp_test_query)\n",
        "evaluate_predictions(img_ytest, res, plot=False)"
      ],
      "metadata": {
        "colab": {
          "base_uri": "https://localhost:8080/"
        },
        "id": "GDlLVSfayj2g",
        "outputId": "0e4989d6-8711-474a-8859-d4539c2dc611"
      },
      "execution_count": null,
      "outputs": [
        {
          "output_type": "execute_result",
          "data": {
            "text/plain": [
              "{'kendalltau': 0.5937973562978882, 'spearmanr': 0.7775240849842525}"
            ]
          },
          "metadata": {},
          "execution_count": 250
        }
      ]
    },
    {
      "cell_type": "markdown",
      "source": [
        "Now, we will clone the model trained on 100 cifar10 networks and use it to train on only 20 ImageNet labeled networks."
      ],
      "metadata": {
        "id": "tFmXi4A6bICv"
      }
    },
    {
      "cell_type": "code",
      "source": [
        "freeze = False\n",
        "imgsize = 20\n",
        "transfer = True\n",
        "\n",
        "print(f\"Using {imgsize} architecture samples for ImageNet\")\n",
        "print(\"--------------------------------------------\")\n",
        "for transfer in [False, True]:\n",
        "  cifar_model = cifar_pred.get_transferable_model(freeze=freeze)\n",
        "  img_transfer = MLPPredictor(model=cifar_model if transfer else None, zc=True, zc_only=zc_only)\n",
        "  img_transfer.set_pre_computations(xtrain_zc_info={'zero_cost_scores': img_zcs_train[:imgsize]})\n",
        "  img_transfer.fit(enc_train[:imgsize], img_ytrain[:imgsize], verbose=False, epochs=800)\n",
        "\n",
        "  res = img_transfer.query(enc_test, info=[{'zero_cost_scores': v} for v in img_zcs_test])\n",
        "  print(\"Transfer\" if transfer else \"From scratch\")\n",
        "  print(evaluate_predictions(img_ytest, res, plot=False))\n",
        "  print()"
      ],
      "metadata": {
        "colab": {
          "base_uri": "https://localhost:8080/"
        },
        "id": "g9YXqb94y_yW",
        "outputId": "1316c4e8-9467-41f8-985c-fa49f2a189f0"
      },
      "execution_count": null,
      "outputs": [
        {
          "output_type": "stream",
          "name": "stdout",
          "text": [
            "Using 20 architecture samples for ImageNet\n",
            "--------------------------------------------\n",
            "From scratch\n",
            "{'kendalltau': 0.6071320366366636, 'spearmanr': 0.7873770998448275}\n",
            "\n",
            "Transfer\n",
            "{'kendalltau': 0.6204667169754389, 'spearmanr': 0.8057029874113293}\n",
            "\n"
          ]
        }
      ]
    },
    {
      "cell_type": "markdown",
      "source": [
        "## TASK 5: Transfer level 2 (90 min - current min)\n",
        "Choose any task that you find interesting\n",
        "- transfer to robustness tasks\n",
        "- transfer to nb301 (use only proxies as the onehot encoding is different)\n",
        "- train on more cifar10 networks (e.g. 1000) and see if it improves the transfer\n",
        "- (harder) modify the MLP code so that only the ZCP part is transferred, but then after the transfer, we add the onehot encoding just before the final linear layer\n",
        "    - This enables transfer to e.g. nb301 while leveraging onehot features\n",
        "    - No idea if it helps, I had this idea while creating this notebook :)"
      ],
      "metadata": {
        "id": "TnBzv40Uba68"
      }
    },
    {
      "cell_type": "code",
      "source": [
        "########## START TODO ############\n",
        "\n",
        "# 1. Do the transfer\n",
        "\n",
        "# Write your code here\n",
        "\n",
        "########## END TODO ##############"
      ],
      "metadata": {
        "id": "24q88kF3AKVG"
      },
      "execution_count": null,
      "outputs": []
    },
    {
      "cell_type": "markdown",
      "source": [
        "# Thanks for doing the NASLib hands-on!\n",
        "\n",
        "Enjoy the rest of the fall school and [reach out](https://gabikadlecova.github.io) if you have some questions or if you have an interesting idea!\n",
        "\n",
        "If you have time and energy ☕, please fill out a short [feedback form](https://forms.gle/qsNsWB8e2cR4DfMf6)."
      ],
      "metadata": {
        "id": "RRiZszA2cP0k"
      }
    }
  ],
  "metadata": {
    "colab": {
      "provenance": [],
      "toc_visible": true
    },
    "kernelspec": {
      "display_name": "Python 3",
      "name": "python3"
    },
    "language_info": {
      "name": "python"
    }
  },
  "nbformat": 4,
  "nbformat_minor": 0
}